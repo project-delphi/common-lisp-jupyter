{
 "cells": [
  {
   "cell_type": "code",
   "execution_count": 1,
   "metadata": {},
   "outputs": [
    {
     "name": "stdout",
     "output_type": "stream",
     "text": [
      "To load \"alexandria\":\n",
      "  Load 1 ASDF system:\n",
      "    alexandria\n",
      "\n",
      "; Loading \"alexandria\"\n",
      "\n",
      "To load \"png\":\n",
      "  Load 1 ASDF system:\n",
      "    png\n",
      "\n",
      "; Loading \"png\"\n",
      "\n",
      "To load \"iterate\":\n",
      "  Load 1 ASDF system:\n",
      "    iterate\n",
      "\n",
      "; Loading \"iterate\"\n",
      "\n",
      "To load \"flexi-streams\":\n",
      "  Load 1 ASDF system:\n",
      "    flexi-streams\n"
     ]
    },
    {
     "data": {
      "text/plain": [
       "(:ALEXANDRIA :PNG :ITERATE :FLEXI-STREAMS)"
      ]
     },
     "execution_count": 1,
     "metadata": {},
     "output_type": "execute_result"
    },
    {
     "data": {
      "text/plain": [
       "T"
      ]
     },
     "execution_count": 1,
     "metadata": {},
     "output_type": "execute_result"
    },
    {
     "data": {
      "text/plain": [
       "T"
      ]
     },
     "execution_count": 1,
     "metadata": {},
     "output_type": "execute_result"
    },
    {
     "data": {
      "text/plain": [
       "T"
      ]
     },
     "execution_count": 1,
     "metadata": {},
     "output_type": "execute_result"
    },
    {
     "name": "stdout",
     "output_type": "stream",
     "text": [
      "\n",
      "; Loading \"flexi-streams\"\n",
      "\n"
     ]
    }
   ],
   "source": [
    "(ql:quickload '(:alexandria :png :iterate :flexi-streams))\n",
    "(use-package :alexandria)\n",
    "(use-package :iterate)\n",
    "(use-package :jupyter-widgets)"
   ]
  },
  {
   "cell_type": "code",
   "execution_count": 2,
   "metadata": {},
   "outputs": [
    {
     "data": {
      "text/plain": [
       "JULIA-COUNT"
      ]
     },
     "execution_count": 2,
     "metadata": {},
     "output_type": "execute_result"
    }
   ],
   "source": [
    "(defun julia-count (z c &key (max 255))\n",
    "    (iter\n",
    "        (for i from 0 to (1- max))\n",
    "        (for p first z then (+ (expt p 2) c))\n",
    "        (while (<= (abs p) 2))\n",
    "        (finally (return i))))\n",
    "\n",
    " "
   ]
  },
  {
   "cell_type": "code",
   "execution_count": null,
   "metadata": {},
   "outputs": [],
   "source": [
    "(defclass julia-widget ()\n",
    "    ((image :reader julia-image\n",
    "            :initform (make-instance 'image :width 640 :height 640))\n",
    "     (x :reader julia-x\n",
    "        :initform (make-instance 'float-text :value 0 :description \"x\"))\n",
    "     (y :reader julia-y\n",
    "        :initform (make-instance 'float-text :value 0 :description \"y\"))\n",
    "     (size :reader julia-size\n",
    "           :initform (make-instance 'float-text :value 4 :description \"size\"))\n",
    "     (ca :reader julia-ca\n",
    "         :initform (make-instance 'float-text :value -0.8 :step 0.001 :description \"ca\"))\n",
    "     (cb :reader julia-cb\n",
    "         :initform (make-instance 'float-text :value 0.156 :step 0.001 :description \"cb\"))\n",
    "     (progress :reader julia-progress\n",
    "               :initform (make-instance 'int-progress :max 640 :description \"Complete\"))\n",
    "     (controls :reader julia-controls\n",
    "               :initform (make-instance 'v-box))\n",
    "     (container :reader julia-container\n",
    "                :initform (make-instance 'h-box))))\n",
    "\n",
    "(defvar jw (make-instance 'julia-widget))\n",
    "\n",
    "(defparameter *update-thread* nil)\n",
    "\n",
    "(defun make-julia (image progress c &key (width 100) (height 100) (xmin -2.5) (xmax 2.5) (ymin -2.5) (ymax 2.5))\n",
    "    (let ((img (png:make-image height width 1 8)))\n",
    "        (iter\n",
    "            (for x from 0 to (1- width))\n",
    "            (for zx next (+ xmin (* (coerce (/ x width) 'float) (- xmax xmin))))\n",
    "            (setf (widget-value progress) x)\n",
    "            (iter\n",
    "                (for y from 0 to (1- height))\n",
    "                (for zy next (+ ymin (* (coerce (/ y height) 'float) (- ymax ymin))))\n",
    "                (for j next (julia-count (complex zx zy) c))\n",
    "                (setf (aref img y x 0) (- 255 j))))\n",
    "        (setf (widget-value image) (flexi-streams:with-output-to-sequence (o)\n",
    "            (png:encode img o)))\n",
    "        nil))\n",
    "\n",
    "(defun update ()\n",
    "    (when (and *update-thread* (bordeaux-threads:thread-alive-p *update-thread*))\n",
    "        (bordeaux-threads:destroy-thread *update-thread*))\n",
    "    (setq *update-thread* (bordeaux-threads:make-thread\n",
    "        (lambda ()\n",
    "            (with-slots (image x y size ca cb progress) jw\n",
    "                (when-let ((ca-value (widget-value ca))\n",
    "                           (cb-value (widget-value cb))\n",
    "                           (x-value (widget-value x))\n",
    "                           (y-value (widget-value y))\n",
    "                           (size-value (widget-value size)))\n",
    "                    (make-julia image progress (complex ca-value cb-value)\n",
    "                                :width (widget-width image) :height (widget-height image)\n",
    "                                :xmin (- x-value (/ size-value 2))\n",
    "                                :xmax (+ x-value (/ size-value 2))\n",
    "                                :ymin (- y-value (/ size-value 2))\n",
    "                                :ymax (+ y-value (/ size-value 2)))))))))\n",
    "                    \n",
    "\n",
    "(with-slots (image x y size ca cb controls container progress) jw\n",
    "    (setf (widget-children controls) (list x y size ca cb progress))\n",
    "    (setf (widget-children container) (list image controls))\n",
    "    (defmethod jupyter-widgets:on-trait-change :after ((object (eql x)) type name old-value new-value source)\n",
    "        (update))\n",
    "    (defmethod jupyter-widgets:on-trait-change :after ((object (eql y)) type name old-value new-value source)\n",
    "        (update))\n",
    "    (defmethod jupyter-widgets:on-trait-change :after ((object (eql size)) type name old-value new-value source)\n",
    "        (update))\n",
    "    (defmethod jupyter-widgets:on-trait-change :after ((object (eql ca)) type name old-value new-value source)\n",
    "        (update))\n",
    "    (defmethod jupyter-widgets:on-trait-change :after ((object (eql cb)) type name old-value new-value source)\n",
    "        (update))\n",
    "    (update))"
   ]
  },
  {
   "cell_type": "code",
   "execution_count": null,
   "metadata": {},
   "outputs": [],
   "source": [
    "(julia-container jw)"
   ]
  },
  {
   "cell_type": "code",
   "execution_count": null,
   "metadata": {},
   "outputs": [],
   "source": []
  }
 ],
 "metadata": {
  "kernelspec": {
   "display_name": "Common Lisp (SBCL)",
   "language": "common-lisp",
   "name": "common-lisp_sbcl"
  },
  "language_info": {
   "codemirror_mode": "text/x-common-lisp",
   "file_extension": ".lisp",
   "mimetype": "text/x-common-lisp",
   "name": "common-lisp",
   "pygments_lexer": "common-lisp",
   "version": "2.0.5"
  },
  "widgets": {
   "application/vnd.jupyter.widget-state+json": {
    "state": {},
    "version_major": 2,
    "version_minor": 0
   }
  }
 },
 "nbformat": 4,
 "nbformat_minor": 4
}
